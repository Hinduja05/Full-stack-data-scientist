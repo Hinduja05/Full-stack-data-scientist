{
 "cells": [
  {
   "cell_type": "code",
   "execution_count": 23,
   "id": "0e0cc5b9",
   "metadata": {},
   "outputs": [
    {
     "name": "stdout",
     "output_type": "stream",
     "text": [
      "2\n",
      "3\n",
      "5\n",
      "7\n",
      "11\n",
      "13\n",
      "17\n",
      "19\n"
     ]
    }
   ],
   "source": [
    "#1. Prime Number Finder\n",
    "# * Function that returns all prime numbers up to `n`.\n",
    "#* Input: `n = 20`\n",
    "  # * Output: `[2, 3, 5, 7, 11, 13, 17, 19]`\n",
    "def prime_finder(num):\n",
    "    if num<2:\n",
    "        return False\n",
    "    \n",
    "    for i in range(2,int(num**0.5)+1):\n",
    "        if num%i==0:\n",
    "            return False\n",
    "    return True\n",
    "\n",
    "for num in range(1,21):\n",
    "    if prime_finder(num):\n",
    "      print(num)\n",
    "\n",
    " "
   ]
  },
  {
   "cell_type": "code",
   "execution_count": 30,
   "id": "6c3cb2df",
   "metadata": {},
   "outputs": [
    {
     "name": "stdout",
     "output_type": "stream",
     "text": [
      "True\n"
     ]
    }
   ],
   "source": [
    "#2. Palindrome Checker\n",
    "#* Check if a string is palindrome (ignoring spaces & case).\n",
    "#* Input: `\"Never odd or even\"`\n",
    "#* Output: `True`\n",
    "def palindrome_checker(string):\n",
    "    \n",
    "    string1=string.replace(\" \",\"\").lower()\n",
    "    rev_string=string1[::-1]\n",
    "    if string1==rev_string:\n",
    "        return True\n",
    "    else:\n",
    "        return False\n",
    "text=input(\"Enter the string\")\n",
    "result=palindrome_checker(text)\n",
    "print(result)"
   ]
  },
  {
   "cell_type": "code",
   "execution_count": 31,
   "id": "72c2f6b7",
   "metadata": {},
   "outputs": [
    {
     "data": {
      "text/plain": [
       "True"
      ]
     },
     "execution_count": 31,
     "metadata": {},
     "output_type": "execute_result"
    }
   ],
   "source": [
    "#3. Anagram Checker\n",
    "#   * Function checks if two words are anagrams.\n",
    "#* Input: `\"listen\", \"silent\"`\n",
    "   #* Output: `True`\n",
    "def anagram(text1,text2):\n",
    "    if sorted(text1)==sorted(text2):\n",
    "        return True\n",
    "    else:\n",
    "        return False\n",
    "text1=input(\"enter the first text\")\n",
    "text2=input(\"Enter the second text\")\n",
    "anagram(text1,text2)"
   ]
  },
  {
   "cell_type": "code",
   "execution_count": 35,
   "id": "6d7a0a5c",
   "metadata": {},
   "outputs": [
    {
     "name": "stdout",
     "output_type": "stream",
     "text": [
      "Vowels= 2\n",
      "Consonants= 3\n",
      "None\n"
     ]
    }
   ],
   "source": [
    "#4. Count Vowels & Consonants\n",
    "#* Return count of vowels & consonants.\n",
    "#* Input: `\"hello\"`\n",
    "#* Output: `Vowels=2, Consonants=3`\n",
    "def v_c_count(string):\n",
    "    count_v=0\n",
    "    count_c=0\n",
    "    vowels=\"aeiouAEIOU\"\n",
    "    for ch in string:\n",
    "        if ch in vowels:\n",
    "            count_v+=1\n",
    "        else:\n",
    "            count_c+=1\n",
    "    print(\"Vowels=\",count_v)\n",
    "    print(\"Consonants=\",count_c)\n",
    "text=input(\"enter the string\")\n",
    "result=v_c_count(text)\n",
    "print(result)\n",
    "\n",
    " "
   ]
  },
  {
   "cell_type": "code",
   "execution_count": 36,
   "id": "0f28f8f9",
   "metadata": {},
   "outputs": [
    {
     "data": {
      "text/plain": [
       "'amazing'"
      ]
     },
     "execution_count": 36,
     "metadata": {},
     "output_type": "execute_result"
    }
   ],
   "source": [
    "#5. Longest Word Finder\n",
    "#* Return longest word in a sentence.\n",
    "#* Input: `\"Python is amazing\"`\n",
    "#* Output: `\"amazing\"`\n",
    "def longest_word_finder(string):\n",
    "    words=string.split()\n",
    "    longest_word=\"\"\n",
    "    for word in words:\n",
    "        if len(word)>len(longest_word):\n",
    "            longest_word=word\n",
    "    return longest_word\n",
    "string=input(\"Enter the string\")\n",
    "longest_word_finder(string)\n",
    "\n",
    "\n",
    " "
   ]
  },
  {
   "cell_type": "code",
   "execution_count": 4,
   "id": "92488fe1",
   "metadata": {},
   "outputs": [
    {
     "name": "stdout",
     "output_type": "stream",
     "text": [
      "[0, 1, 1, 2, 3, 5, 8]\n"
     ]
    }
   ],
   "source": [
    "## Python Functions (5 challenges)\n",
    " #1. Fibonacci Generator\n",
    " #* Function generates `n` Fibonacci numbers.\n",
    " #* Input: `n = 7`\n",
    " #* Output: `[0, 1, 1, 2, 3, 5, 8]`\n",
    "def fib(n):\n",
    "    if n==0:\n",
    "        return []\n",
    "    elif n==1:\n",
    "        return [0]\n",
    "    elif n==2:\n",
    "        return [0,1]\n",
    "    else:\n",
    "        sequence=fib(n-1)\n",
    "        sequence.append(sequence[-1]+sequence[-2])\n",
    "        return sequence\n",
    "n=int(input(\"enter the number\"))\n",
    "result=fib(n)\n",
    "print(result)\n",
    "\n",
    "\n",
    " "
   ]
  },
  {
   "cell_type": "code",
   "execution_count": 5,
   "id": "7522d353",
   "metadata": {},
   "outputs": [
    {
     "name": "stdout",
     "output_type": "stream",
     "text": [
      "factorial of 5 is 120\n"
     ]
    }
   ],
   "source": [
    "#2. Factorial Using Recursion\n",
    " # Compute factorial using recursion.\n",
    " #* Input: `5`\n",
    "#* Output: `120`\n",
    "def fact(n):\n",
    "    if n==0 or n==1:\n",
    "        return 1\n",
    "    else:\n",
    "        return n*fact(n-1)\n",
    "n=int(input(\"Enter the number\"))\n",
    "result=fact(n)\n",
    "print(f\"factorial of {n} is {result}\")"
   ]
  },
  {
   "cell_type": "code",
   "execution_count": 7,
   "id": "b804a10f",
   "metadata": {},
   "outputs": [
    {
     "name": "stdout",
     "output_type": "stream",
     "text": [
      "Counter({'apple': 2, 'banana': 2, 'orange': 1})\n"
     ]
    }
   ],
   "source": [
    "#3. Unique Words Counter\n",
    " #* Return unique words in a sentence.\n",
    " #* Input: `\"apple banana apple orange banana\"`\n",
    " #* Output: `{'apple':2,'banana':2,'orange':1}`\n",
    "from collections import Counter\n",
    "def unique_word(string):\n",
    "    word=string.split()\n",
    "    counter=Counter(word)\n",
    "    print(counter)\n",
    "string=input(\"enter the string\")\n",
    "unique_word(string)"
   ]
  },
  {
   "cell_type": "code",
   "execution_count": 9,
   "id": "9014bef9",
   "metadata": {},
   "outputs": [
    {
     "name": "stdout",
     "output_type": "stream",
     "text": [
      "Grade  is: A\n"
     ]
    }
   ],
   "source": [
    "#4. Grade Calculator\n",
    " #* Function takes marks and returns grade.\n",
    " #* Input: `[85, 90, 78]`\n",
    "#* Output: `\"Grade: A\"`\n",
    "def calculator(marks):\n",
    "    avg=sum(marks)/len(marks)\n",
    "    if avg>=90:\n",
    "        grade=\"A+\"\n",
    "    elif avg<90 and avg>=80:\n",
    "        grade=\"A\"\n",
    "    elif avg<80 and avg>=70:\n",
    "        grade=\"B+\"\n",
    "    elif avg<70 and avg>=60:\n",
    "        grade=\"B\"\n",
    "    elif avg<60 and avg>=50:\n",
    "        grade=\"C\"\n",
    "    else:\n",
    "        grade=\"Fail\"\n",
    "    return grade\n",
    "marks=list(map(int,input(\"enter the marks\").split()))\n",
    "result=calculator(marks)\n",
    "print(\"Grade  is:\",result)\n",
    "\n"
   ]
  },
  {
   "cell_type": "code",
   "execution_count": 10,
   "id": "7fac04d3",
   "metadata": {},
   "outputs": [
    {
     "data": {
      "text/plain": [
       "4"
      ]
     },
     "execution_count": 10,
     "metadata": {},
     "output_type": "execute_result"
    }
   ],
   "source": [
    "#5. Second Largest Number\n",
    " #* Return 2nd largest number from a list.\n",
    " #* Input: `[10, 5, 20, 8]`\n",
    " #* Output: `10`\n",
    "def second_largest(nums):\n",
    "    nums1=list(set(nums))\n",
    "    nums1.sort(reverse=True)\n",
    "    if len(nums)<2:\n",
    "        return \n",
    "    return nums1[1]\n",
    "nums=list(map(int,input().split()))\n",
    "second_largest(nums)\n"
   ]
  }
 ],
 "metadata": {
  "kernelspec": {
   "display_name": "Python (pytorch_env)",
   "language": "python",
   "name": "pytorch_env"
  },
  "language_info": {
   "codemirror_mode": {
    "name": "ipython",
    "version": 3
   },
   "file_extension": ".py",
   "mimetype": "text/x-python",
   "name": "python",
   "nbconvert_exporter": "python",
   "pygments_lexer": "ipython3",
   "version": "3.13.2"
  }
 },
 "nbformat": 4,
 "nbformat_minor": 5
}
