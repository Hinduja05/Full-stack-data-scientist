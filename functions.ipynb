{
 "cells": [
  {
   "cell_type": "code",
   "execution_count": 23,
   "id": "0e0cc5b9",
   "metadata": {},
   "outputs": [
    {
     "name": "stdout",
     "output_type": "stream",
     "text": [
      "2\n",
      "3\n",
      "5\n",
      "7\n",
      "11\n",
      "13\n",
      "17\n",
      "19\n"
     ]
    }
   ],
   "source": [
    "#1. Prime Number Finder\n",
    "# * Function that returns all prime numbers up to `n`.\n",
    "#* Input: `n = 20`\n",
    "  # * Output: `[2, 3, 5, 7, 11, 13, 17, 19]`\n",
    "def prime_finder(num):\n",
    "    if num<2:\n",
    "        return False\n",
    "    \n",
    "    for i in range(2,int(num**0.5)+1):\n",
    "        if num%i==0:\n",
    "            return False\n",
    "    return True\n",
    "\n",
    "for num in range(1,21):\n",
    "    if prime_finder(num):\n",
    "      print(num)\n",
    "\n",
    " "
   ]
  },
  {
   "cell_type": "code",
   "execution_count": 30,
   "id": "6c3cb2df",
   "metadata": {},
   "outputs": [
    {
     "name": "stdout",
     "output_type": "stream",
     "text": [
      "True\n"
     ]
    }
   ],
   "source": [
    "#2. Palindrome Checker\n",
    "#* Check if a string is palindrome (ignoring spaces & case).\n",
    "#* Input: `\"Never odd or even\"`\n",
    "#* Output: `True`\n",
    "def palindrome_checker(string):\n",
    "    \n",
    "    string1=string.replace(\" \",\"\").lower()\n",
    "    rev_string=string1[::-1]\n",
    "    if string1==rev_string:\n",
    "        return True\n",
    "    else:\n",
    "        return False\n",
    "text=input(\"Enter the string\")\n",
    "result=palindrome_checker(text)\n",
    "print(result)"
   ]
  },
  {
   "cell_type": "code",
   "execution_count": 31,
   "id": "72c2f6b7",
   "metadata": {},
   "outputs": [
    {
     "data": {
      "text/plain": [
       "True"
      ]
     },
     "execution_count": 31,
     "metadata": {},
     "output_type": "execute_result"
    }
   ],
   "source": [
    "#3. Anagram Checker\n",
    "#   * Function checks if two words are anagrams.\n",
    "#* Input: `\"listen\", \"silent\"`\n",
    "   #* Output: `True`\n",
    "def anagram(text1,text2):\n",
    "    if sorted(text1)==sorted(text2):\n",
    "        return True\n",
    "    else:\n",
    "        return False\n",
    "text1=input(\"enter the first text\")\n",
    "text2=input(\"Enter the second text\")\n",
    "anagram(text1,text2)"
   ]
  },
  {
   "cell_type": "code",
   "execution_count": 35,
   "id": "6d7a0a5c",
   "metadata": {},
   "outputs": [
    {
     "name": "stdout",
     "output_type": "stream",
     "text": [
      "Vowels= 2\n",
      "Consonants= 3\n",
      "None\n"
     ]
    }
   ],
   "source": [
    "#4. Count Vowels & Consonants\n",
    "#* Return count of vowels & consonants.\n",
    "#* Input: `\"hello\"`\n",
    "#* Output: `Vowels=2, Consonants=3`\n",
    "def v_c_count(string):\n",
    "    count_v=0\n",
    "    count_c=0\n",
    "    vowels=\"aeiouAEIOU\"\n",
    "    for ch in string:\n",
    "        if ch in vowels:\n",
    "            count_v+=1\n",
    "        else:\n",
    "            count_c+=1\n",
    "    print(\"Vowels=\",count_v)\n",
    "    print(\"Consonants=\",count_c)\n",
    "text=input(\"enter the string\")\n",
    "result=v_c_count(text)\n",
    "print(result)\n",
    "\n",
    " "
   ]
  },
  {
   "cell_type": "code",
   "execution_count": 36,
   "id": "0f28f8f9",
   "metadata": {},
   "outputs": [
    {
     "data": {
      "text/plain": [
       "'amazing'"
      ]
     },
     "execution_count": 36,
     "metadata": {},
     "output_type": "execute_result"
    }
   ],
   "source": [
    "#5. Longest Word Finder\n",
    "#* Return longest word in a sentence.\n",
    "#* Input: `\"Python is amazing\"`\n",
    "#* Output: `\"amazing\"`\n",
    "def longest_word_finder(string):\n",
    "    words=string.split()\n",
    "    longest_word=\"\"\n",
    "    for word in words:\n",
    "        if len(word)>len(longest_word):\n",
    "            longest_word=word\n",
    "    return longest_word\n",
    "string=input(\"Enter the string\")\n",
    "longest_word_finder(string)\n",
    "\n",
    "\n",
    " "
   ]
  }
 ],
 "metadata": {
  "kernelspec": {
   "display_name": "Python (pytorch_env)",
   "language": "python",
   "name": "pytorch_env"
  },
  "language_info": {
   "codemirror_mode": {
    "name": "ipython",
    "version": 3
   },
   "file_extension": ".py",
   "mimetype": "text/x-python",
   "name": "python",
   "nbconvert_exporter": "python",
   "pygments_lexer": "ipython3",
   "version": "3.13.2"
  }
 },
 "nbformat": 4,
 "nbformat_minor": 5
}
