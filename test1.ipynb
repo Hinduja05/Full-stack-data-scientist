{
 "cells": [
  {
   "cell_type": "code",
   "execution_count": 1,
   "id": "0bf999bc",
   "metadata": {},
   "outputs": [
    {
     "name": "stdout",
     "output_type": "stream",
     "text": [
      "10\n",
      "\n"
     ]
    }
   ],
   "source": [
    "a=input(\"enter the first number\")\n",
    "b=input(\"enter the second number\")\n",
    "temp=a\n",
    "a=b\n",
    "b=temp\n",
    "print(a)\n",
    "print(b)\n",
    "    \n"
   ]
  },
  {
   "cell_type": "code",
   "execution_count": 1,
   "id": "0291cdb1",
   "metadata": {},
   "outputs": [
    {
     "name": "stdout",
     "output_type": "stream",
     "text": [
      "r\n",
      "e\n",
      "t\n",
      "r\n",
      "o\n",
      "p\n",
      " \n",
      "y\n",
      "r\n",
      "r\n",
      "a\n",
      "h\n"
     ]
    }
   ],
   "source": [
    "book_name=input(\"Enter the book name\")\n",
    "for i in range(len(book_name)-1,-1,-1):\n",
    "    print(book_name[i])\n"
   ]
  },
  {
   "cell_type": "code",
   "execution_count": 4,
   "id": "2ca1ccfe",
   "metadata": {},
   "outputs": [
    {
     "name": "stdout",
     "output_type": "stream",
     "text": [
      "3\n",
      "not an armstrong\n"
     ]
    }
   ],
   "source": [
    "\n",
    "def armstrong():\n",
    "    num=int(input(\"enter the number\"))\n",
    "    a=num\n",
    "    value=num\n",
    "    sum=0\n",
    "    count=0\n",
    "    while num>0:\n",
    "        count+=1\n",
    "        num=num//10\n",
    "    print(count)\n",
    "    while value>0:\n",
    "        d=value%10\n",
    "        sum=sum+d**count\n",
    "        value=value//10\n",
    "    if sum==a:\n",
    "       print(\"armstrong\")\n",
    "    else:\n",
    "       print(\"not an armstrong\")\n",
    "armstrong()"
   ]
  },
  {
   "cell_type": "code",
   "execution_count": 28,
   "id": "1d6384c9",
   "metadata": {},
   "outputs": [
    {
     "name": "stdout",
     "output_type": "stream",
     "text": [
      "no of vowels 2\n",
      "no.of consosnants 3\n"
     ]
    }
   ],
   "source": [
    "#A language learning app wants to check how many vowels and consonants a user has typed in a practice sentence. Write a program to count vowels and consonants in a given sentence.\n",
    "string=input(\"Enter the string\")\n",
    "vowels=['a','e','i','o','u','A','E','I','O','U']\n",
    "vowels_count=0\n",
    "consonants_count=0\n",
    "for i in string:\n",
    "    if i in vowels:\n",
    "        vowels_count+=1\n",
    "    else:\n",
    "        consonants_count+=1\n",
    "print(\"no of vowels\",vowels_count)\n",
    "print(\"no.of consosnants\",consonants_count)\n",
    "    "
   ]
  },
  {
   "cell_type": "code",
   "execution_count": 31,
   "id": "49705e01",
   "metadata": {},
   "outputs": [
    {
     "name": "stdout",
     "output_type": "stream",
     "text": [
      "0\n",
      "5\n",
      "10\n",
      "15\n",
      "20\n",
      "25\n",
      "30\n",
      "35\n",
      "40\n",
      "45\n"
     ]
    }
   ],
   "source": [
    "def table():\n",
    " n=int(input(\"Enter the number\"))\n",
    " for i in range(10):\n",
    "    a=n*i\n",
    "    print(a)\n",
    "table()"
   ]
  },
  {
   "cell_type": "code",
   "execution_count": 3,
   "id": "62df0933",
   "metadata": {},
   "outputs": [
    {
     "data": {
      "text/plain": [
       "True"
      ]
     },
     "execution_count": 3,
     "metadata": {},
     "output_type": "execute_result"
    }
   ],
   "source": [
    "#A travel company checks leap years to calculate special discounts on leap day. Write a program to check if a given year is a leap year.\n",
    "def leap_year():\n",
    "    year=int(input(\"Enter the year\"))\n",
    "    if(year%4==0 and year%100!=0 ) or( year%400==0):\n",
    "        return True\n",
    "    else:\n",
    "        return False\n",
    "leap_year()"
   ]
  },
  {
   "cell_type": "code",
   "execution_count": 11,
   "id": "ceec7472",
   "metadata": {},
   "outputs": [
    {
     "name": "stdout",
     "output_type": "stream",
     "text": [
      "highest score is: 56\n"
     ]
    }
   ],
   "source": [
    "#A gaming app wants to determine the highest score out of 5 attempts. Write a program to take 5 numbers as input and print the largest.\n",
    "score=[]\n",
    "for i in range(5):\n",
    "    scores = int(input(f\"Enter score {i+1}: \"))\n",
    "    score.append(scores)\n",
    "highest_score=max(score)\n",
    "print(\"highest score is:\",highest_score)\n",
    "\n"
   ]
  },
  {
   "cell_type": "code",
   "execution_count": 14,
   "id": "43efbaeb",
   "metadata": {},
   "outputs": [
    {
     "name": "stdout",
     "output_type": "stream",
     "text": [
      "323 is palindrome\n"
     ]
    }
   ],
   "source": [
    "#A healthcare app stores patient IDs and checks if they are palindromes for easy recall. Write a program that checks if a given string ID is a palindrome.\n",
    "\n",
    "def palindrome():\n",
    "    id=input(\"Enter the pateint id\")\n",
    "    if id==id[::-1]:\n",
    "        print(f\"{id} is palindrome\")\n",
    "    else:\n",
    "        print(f\"{id} is not a palimdrome\")\n",
    "palindrome()\n"
   ]
  },
  {
   "cell_type": "code",
   "execution_count": 20,
   "id": "98285ccf",
   "metadata": {},
   "outputs": [
    {
     "name": "stdout",
     "output_type": "stream",
     "text": [
      "workers can be arranged in 24 ways\n"
     ]
    }
   ],
   "source": [
    "#A factory wants to calculate the number of ways workers can be arranged in a line. Write a program to find the factorial of a number.\n",
    "def factorial(f):\n",
    "    if f==0 or f==1:\n",
    "        return 1\n",
    "    else:\n",
    "        return f*factorial(f-1)\n",
    "fact=int(input(\"Enter the number\"))\n",
    "result=factorial(fact)\n",
    "print(f\"workers can be arranged in {result} ways\")"
   ]
  },
  {
   "cell_type": "code",
   "execution_count": 22,
   "id": "8c701d8f",
   "metadata": {},
   "outputs": [
    {
     "name": "stdout",
     "output_type": "stream",
     "text": [
      "15\n",
      "30\n",
      "45\n",
      "60\n",
      "75\n",
      "90\n"
     ]
    }
   ],
   "source": [
    "#A company gives rewards for numbers divisible by both 3 and 5. Write a program to print all numbers between 1 and 100 that qualify.\n",
    "for i in range(1,101):\n",
    "    if(i%3==0 and i%5==0):\n",
    "     print(i)"
   ]
  },
  {
   "cell_type": "code",
   "execution_count": 27,
   "id": "4f320bef",
   "metadata": {},
   "outputs": [
    {
     "name": "stdout",
     "output_type": "stream",
     "text": [
      "6 is not prime\n"
     ]
    }
   ],
   "source": [
    "#A security system checks whether the entered code is prime for extra authentication. Write a program to check if a given number is prime.\n",
    "def is_prime(n):\n",
    "    if num<=1:\n",
    "        return False\n",
    "    for i in range(2,int(num**0.5)+1):\n",
    "        if num%i==0:\n",
    "            return False\n",
    "        return True\n",
    "num=int(input(\"Enter the number\"))\n",
    "if is_prime(num):\n",
    "    print(f\"{num} is prime\")\n",
    "else:\n",
    "    print(f\"{num} is not prime\")\n",
    "\n",
    "    \n"
   ]
  },
  {
   "cell_type": "code",
   "execution_count": 29,
   "id": "20fc4361",
   "metadata": {},
   "outputs": [
    {
     "name": "stdout",
     "output_type": "stream",
     "text": [
      "45\n"
     ]
    }
   ],
   "source": [
    "#In a class test, a teacher wants to know the second highest score among students. Write a program to find the second largest number in a list.\n",
    "score=[20,30,40,45,50]\n",
    "score.sort(reverse=True)\n",
    "print(score[1])"
   ]
  },
  {
   "cell_type": "code",
   "execution_count": 31,
   "id": "70727579",
   "metadata": {},
   "outputs": [
    {
     "name": "stdout",
     "output_type": "stream",
     "text": [
      "650\n"
     ]
    }
   ],
   "source": [
    "#A fitness app counts only even-numbered steps to calculate “balanced walking.” Write a program to find the sum of even numbers from 1 to 50.\n",
    "sum=0\n",
    "for i in range(1,51):\n",
    "    if i%2==0:\n",
    "        sum=sum+i\n",
    "print(sum)\n"
   ]
  },
  {
   "cell_type": "code",
   "execution_count": 32,
   "id": "b02d7506",
   "metadata": {},
   "outputs": [
    {
     "name": "stdout",
     "output_type": "stream",
     "text": [
      "number pf upper_case letters 1\n",
      "number pf lower_case letters 4\n"
     ]
    }
   ],
   "source": [
    "#A typing speed test wants to know how many uppercase and lowercase letters a user typed. Write a program to count uppercase and lowercase characters in a string.\n",
    "letters=input(\"Enter the word\")\n",
    "upper_case_count=0\n",
    "lower_case_count=0\n",
    "for letter in letters:\n",
    "    if letter.isupper():\n",
    "        upper_case_count+=1\n",
    "    else:\n",
    "        lower_case_count+=1\n",
    "print(f\"number pf upper_case letters {upper_case_count}\")\n",
    "print(f\"number pf lower_case letters {lower_case_count}\")"
   ]
  },
  {
   "cell_type": "code",
   "execution_count": 39,
   "id": "5fc02077",
   "metadata": {},
   "outputs": [
    {
     "name": "stdout",
     "output_type": "stream",
     "text": [
      "0\n",
      "1\n",
      "2\n",
      "4\n"
     ]
    }
   ],
   "source": [
    "#A financial tool simulates Fibonacci-like growth in savings. Write a program to generate the Fibonacci sequence up to n terms.\n",
    "def fibanocci():\n",
    "    n=int(input(\"Enter the number\"))\n",
    "    f1=0\n",
    "    f2=1\n",
    "    for _ in range(n):\n",
    "        print(f1)\n",
    "        f1=f2\n",
    "        f2=f1+f2\n",
    "        \n",
    "fibanocci()"
   ]
  },
  {
   "cell_type": "code",
   "execution_count": null,
   "id": "3c677227",
   "metadata": {},
   "outputs": [],
   "source": []
  }
 ],
 "metadata": {
  "kernelspec": {
   "display_name": "venv",
   "language": "python",
   "name": "python3"
  },
  "language_info": {
   "codemirror_mode": {
    "name": "ipython",
    "version": 3
   },
   "file_extension": ".py",
   "mimetype": "text/x-python",
   "name": "python",
   "nbconvert_exporter": "python",
   "pygments_lexer": "ipython3",
   "version": "3.11.0"
  }
 },
 "nbformat": 4,
 "nbformat_minor": 5
}
