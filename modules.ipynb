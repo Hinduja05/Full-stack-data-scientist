{
 "cells": [
  {
   "cell_type": "code",
   "execution_count": 4,
   "id": "f067f137",
   "metadata": {},
   "outputs": [
    {
     "data": {
      "text/plain": [
       "'fhb/EN'"
      ]
     },
     "execution_count": 4,
     "metadata": {},
     "output_type": "execute_result"
    }
   ],
   "source": [
    "#1. Random Password Generator (`random`, `string`)\n",
    "#* Input: `length=6`\n",
    "#* Output: `\"aB9@xQ\"`\n",
    "import random\n",
    "import string\n",
    "def pass_gen(length):\n",
    "    character=string.ascii_letters+string.digits+string.punctuation\n",
    "    password = ''.join(random.choice(character) for _ in range(length))\n",
    "    return password\n",
    "length=int(input(\"enter the length of the password\"))\n",
    "pass_gen(length)"
   ]
  },
  {
   "cell_type": "code",
   "execution_count": null,
   "id": "365a5c91",
   "metadata": {},
   "outputs": [],
   "source": [
    "#2. Simple Calculator with `math`\n",
    "#* Perform sqrt, factorial, sin, cos.\n",
    "#* Input: `sqrt(25)`\n",
    "#* Output: `5.0`\n",
    "import math\n",
    "def calculator():\n",
    "    "
   ]
  },
  {
   "cell_type": "code",
   "execution_count": 9,
   "id": "4ff6b20b",
   "metadata": {},
   "outputs": [
    {
     "data": {
      "text/plain": [
       "Counter({'cat': 2, 'dog': 1})"
      ]
     },
     "execution_count": 9,
     "metadata": {},
     "output_type": "execute_result"
    }
   ],
   "source": [
    "#3. Word Frequency Counter (`collections.Counter`)\n",
    "#* Input: `\"cat dog cat\"`\n",
    "#* Output: `{'cat':2,'dog':1}`\n",
    "from collections import Counter\n",
    "def freq_counter(string):\n",
    "    word=string.split()\n",
    "    count=Counter(word)\n",
    "    return count\n",
    "string=input(\"enter the string\")\n",
    "freq_counter(string)\n",
    " "
   ]
  },
  {
   "cell_type": "code",
   "execution_count": 13,
   "id": "6188b1b8",
   "metadata": {},
   "outputs": [
    {
     "name": "stdout",
     "output_type": "stream",
     "text": [
      "weather is Rainy temperature is -8\n"
     ]
    }
   ],
   "source": [
    "#4. Weather Simulator (`random`)\n",
    "#* Input: None\n",
    "#* Output: `\"Weather: Sunny, Temp: 32°C\"`\n",
    "import random\n",
    "def weather_simulator():\n",
    "     conditions = [\"Sunny\", \"Rainy\", \"Cloudy\", \"Windy\", \"Stormy\", \"Snowy\"]\n",
    "     weather=random.choice(conditions)\n",
    "     temp=random.randint(-10,40)\n",
    "     print(f\"weather is {weather} temperature is {temp}\")\n",
    "weather_simulator()\n",
    "\n",
    " "
   ]
  },
  {
   "cell_type": "code",
   "execution_count": null,
   "id": "15a2001b",
   "metadata": {},
   "outputs": [],
   "source": [
    "#5. Timer Program (`time`)\n",
    "#* Input: `countdown(5)`\n",
    "#* Output:\n",
    "  #5  \n",
    "  #4  \n",
    "  #3  \n",
    "  #2  \n",
    "  #1  \n",
    "#  Time’s up!\n",
    "\n"
   ]
  }
 ],
 "metadata": {
  "kernelspec": {
   "display_name": "Python (pytorch_env)",
   "language": "python",
   "name": "pytorch_env"
  },
  "language_info": {
   "codemirror_mode": {
    "name": "ipython",
    "version": 3
   },
   "file_extension": ".py",
   "mimetype": "text/x-python",
   "name": "python",
   "nbconvert_exporter": "python",
   "pygments_lexer": "ipython3",
   "version": "3.13.2"
  }
 },
 "nbformat": 4,
 "nbformat_minor": 5
}
