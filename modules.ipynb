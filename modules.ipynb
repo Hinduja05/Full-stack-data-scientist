{
 "cells": [
  {
   "cell_type": "code",
   "execution_count": 4,
   "id": "f067f137",
   "metadata": {},
   "outputs": [
    {
     "data": {
      "text/plain": [
       "'fhb/EN'"
      ]
     },
     "execution_count": 4,
     "metadata": {},
     "output_type": "execute_result"
    }
   ],
   "source": [
    "#1. Random Password Generator (`random`, `string`)\n",
    "#* Input: `length=6`\n",
    "#* Output: `\"aB9@xQ\"`\n",
    "import random\n",
    "import string\n",
    "def pass_gen(length):\n",
    "    character=string.ascii_letters+string.digits+string.punctuation\n",
    "    password = ''.join(random.choice(character) for _ in range(length))\n",
    "    return password\n",
    "length=int(input(\"enter the length of the password\"))\n",
    "pass_gen(length)"
   ]
  },
  {
   "cell_type": "code",
   "execution_count": 4,
   "id": "365a5c91",
   "metadata": {},
   "outputs": [
    {
     "name": "stdout",
     "output_type": "stream",
     "text": [
      "1.sqrt,2.factorial,3.sin,4.cos\n",
      "factorial of given number: 120\n"
     ]
    }
   ],
   "source": [
    "#2. Simple Calculator with `math`\n",
    "#* Perform sqrt, factorial, sin, cos.\n",
    "#* Input: `sqrt(25)`\n",
    "#* Output: `5.0`\n",
    "import math\n",
    "def calculator():\n",
    "    print(\"1.sqrt,2.factorial,3.sin,4.cos\")\n",
    "    op=input().lower()\n",
    "    num=int(input(\"enter the number\"))\n",
    "    if op==\"sqrt\":\n",
    "        print(\"square of number:\",math.sqrt(num))\n",
    "    elif op==\"factorial\":\n",
    "        print(\"factorial of given number:\",math.factorial(num))\n",
    "    elif op==\"sin\":\n",
    "        print(\"sin of number :\",math.sin(num))\n",
    "    else:\n",
    "        print(\"cos of  number:\",math.cos(num))\n",
    "calculator()"
   ]
  },
  {
   "cell_type": "code",
   "execution_count": 9,
   "id": "4ff6b20b",
   "metadata": {},
   "outputs": [
    {
     "data": {
      "text/plain": [
       "Counter({'cat': 2, 'dog': 1})"
      ]
     },
     "execution_count": 9,
     "metadata": {},
     "output_type": "execute_result"
    }
   ],
   "source": [
    "#3. Word Frequency Counter (`collections.Counter`)\n",
    "#* Input: `\"cat dog cat\"`\n",
    "#* Output: `{'cat':2,'dog':1}`\n",
    "from collections import Counter\n",
    "def freq_counter(string):\n",
    "    word=string.split()\n",
    "    count=Counter(word)\n",
    "    return count\n",
    "string=input(\"enter the string\")\n",
    "freq_counter(string)\n",
    " "
   ]
  },
  {
   "cell_type": "code",
   "execution_count": 13,
   "id": "6188b1b8",
   "metadata": {},
   "outputs": [
    {
     "name": "stdout",
     "output_type": "stream",
     "text": [
      "weather is Rainy temperature is -8\n"
     ]
    }
   ],
   "source": [
    "#4. Weather Simulator (`random`)\n",
    "#* Input: None\n",
    "#* Output: `\"Weather: Sunny, Temp: 32°C\"`\n",
    "import random\n",
    "def weather_simulator():\n",
    "     conditions = [\"Sunny\", \"Rainy\", \"Cloudy\", \"Windy\", \"Stormy\", \"Snowy\"]\n",
    "     weather=random.choice(conditions)\n",
    "     temp=random.randint(-10,40)\n",
    "     print(f\"weather is {weather} temperature is {temp}\")\n",
    "weather_simulator()\n",
    "\n",
    " "
   ]
  },
  {
   "cell_type": "code",
   "execution_count": 1,
   "id": "15a2001b",
   "metadata": {},
   "outputs": [
    {
     "name": "stdout",
     "output_type": "stream",
     "text": [
      "6\n",
      "5\n",
      "4\n",
      "3\n",
      "2\n",
      "1\n",
      "Time's up\n"
     ]
    }
   ],
   "source": [
    "#5. Timer Program (`time`)\n",
    "#* Input: `countdown(5)`\n",
    "#* Output:\n",
    "  #5  \n",
    "  #4  \n",
    "  #3  \n",
    "  #2  \n",
    "  #1  \n",
    "#  Time’s up!\n",
    "\n",
    "import time\n",
    "def timer(n):\n",
    "    while n>0:\n",
    "        print(n)\n",
    "        time.sleep(1)\n",
    "        n-=1\n",
    "    print(\"Time's up\")\n",
    "n=int(input())\n",
    "timer(n)\n",
    "      \n",
    "    "
   ]
  },
  {
   "cell_type": "code",
   "execution_count": 6,
   "id": "34824aa9",
   "metadata": {},
   "outputs": [
    {
     "name": "stdout",
     "output_type": "stream",
     "text": [
      "text file count: 1\n",
      "python file count 1\n"
     ]
    }
   ],
   "source": [
    "#1. `os` → Count Files by Extension\n",
    " #Write a program using `os` to count how many `.txt` and `.py` files are in the current directory.\n",
    " #Sample Input (files in folder):\n",
    " #[\"notes.txt\", \"app.py\", \"data.csv\", \"report.txt\", \"main.py\"]\n",
    "import os\n",
    "def count_file_by_extension():\n",
    "    txt_count=0\n",
    "    py_count=0\n",
    "    for file in os.listdir():\n",
    "        if file.endswith(\".txt\"):\n",
    "            txt_count+=1\n",
    "        elif file.endswith(\".py\"):\n",
    "            py_count+=1\n",
    "    print(\"text file count:\",txt_count)\n",
    "    print(\"python file count\",py_count)\n",
    "count_file_by_extension()"
   ]
  },
  {
   "cell_type": "code",
   "execution_count": 7,
   "id": "4e4fd54c",
   "metadata": {},
   "outputs": [
    {
     "name": "stdout",
     "output_type": "stream",
     "text": [
      "Mean is 29.2\n",
      "Median is 30\n",
      "variance is 55.7\n"
     ]
    }
   ],
   "source": [
    " #2. `statistics` → Exam Score Analysis\n",
    " #Use `statistics` to calculate the mean, median, and variance of student exam scores.\n",
    " #Sample Input:\n",
    " #Scores = [75, 80, 90, 100, 85, 90, 95]\n",
    "#Sample Output:\n",
    "#Mean = 88.57\n",
    "#Median = 90\n",
    "#Variance = 71.43\n",
    "import statistics\n",
    "def score_analysis(score):\n",
    "    mean=statistics.mean(score)\n",
    "    median=statistics.median(score)\n",
    "    variance=statistics.variance(score)\n",
    "    print(\"Mean is\",mean)\n",
    "    print(\"Median is\",median)\n",
    "    print(\"variance is\",variance)\n",
    "score=list(map(int,input().split()))\n",
    "score_analysis(score)\n"
   ]
  },
  {
   "cell_type": "code",
   "execution_count": null,
   "id": "8a0bd4ec",
   "metadata": {},
   "outputs": [
    {
     "name": "stdout",
     "output_type": "stream",
     "text": [
      "Roots are: 2.0 and 1.0\n"
     ]
    }
   ],
   "source": [
    "#3. `math` → Quadratic Equation Solver\n",
    "import math\n",
    "def solve_quadratic(a, b, c):\n",
    "    d= b**2 - 4*a*c\n",
    "\n",
    "    if d< 0:\n",
    "        print(\"No real roots\")\n",
    "    else:\n",
    "        root1 = (-b + math.sqrt(d)) / (2*a)\n",
    "        root2 = (-b - math.sqrt(d)) / (2*a)\n",
    "        print(f\"Roots are: {root1} and {root2}\")\n",
    "a,b,c=map(int,input().split())\n",
    "\n",
    "solve_quadratic(a, b, c)\n"
   ]
  },
  {
   "cell_type": "code",
   "execution_count": 12,
   "id": "79b392be",
   "metadata": {},
   "outputs": [
    {
     "name": "stdout",
     "output_type": "stream",
     "text": [
      "\n",
      "Your chose Rock, Computer chose Rock\n",
      "It's a Tie!\n"
     ]
    }
   ],
   "source": [
    "#4.rock paper scissor game\n",
    "import random\n",
    "def rock_paper_scissors():\n",
    "    options = [\"Rock\", \"Paper\", \"Scissors\"]\n",
    "    user_choice = input(\"Enter your choice (Rock, Paper, Scissors): \").capitalize()\n",
    "    if user_choice not in options:\n",
    "        print(\"Invalid choice!\")\n",
    "        return\n",
    "    computer_choice = random.choice(options)\n",
    "    print(f\"\\nYour chose {user_choice}, Computer chose {computer_choice}\")\n",
    "    if user_choice == computer_choice:\n",
    "        print(\"It's a Tie!\")\n",
    "    elif (user_choice == \"Rock\" and computer_choice == \"Scissors\") or \\\n",
    "         (user_choice == \"Paper\" and computer_choice == \"Rock\") or \\\n",
    "         (user_choice == \"Scissors\" and computer_choice == \"Paper\"):\n",
    "        print(\"You Win!\")\n",
    "    else:\n",
    "        print(\"Computer Wins!\")\n",
    "rock_paper_scissors()"
   ]
  },
  {
   "cell_type": "code",
   "execution_count": 13,
   "id": "654e2107",
   "metadata": {},
   "outputs": [
    {
     "name": "stdout",
     "output_type": "stream",
     "text": [
      "Please provide valid numbers\n"
     ]
    },
    {
     "ename": "SystemExit",
     "evalue": "1",
     "output_type": "error",
     "traceback": [
      "An exception has occurred, use %tb to see the full traceback.\n",
      "\u001b[31mSystemExit\u001b[39m\u001b[31m:\u001b[39m 1\n"
     ]
    },
    {
     "name": "stderr",
     "output_type": "stream",
     "text": [
      "c:\\Users\\91818\\pytorch_env\\Lib\\site-packages\\IPython\\core\\interactiveshell.py:3675: UserWarning: To exit: use 'exit', 'quit', or Ctrl-D.\n",
      "  warn(\"To exit: use 'exit', 'quit', or Ctrl-D.\", stacklevel=1)\n"
     ]
    }
   ],
   "source": [
    "#5. `sys` → Sum from Command Line\n",
    " #Write a program using `sys.argv` to take three numbers from the command line and print their sum.\n",
    " #Sample Input (command line):\n",
    "#python add.py 5 10 15\n",
    "#Sample Output:\n",
    " #Sum = 30\n",
    "import sys\n",
    "try:\n",
    "    num1 = float(sys.argv[1])\n",
    "    num2 = float(sys.argv[2])\n",
    "    num3 = float(sys.argv[3])\n",
    "except ValueError:\n",
    "    print(\"Please provide valid numbers\")\n",
    "    sys.exit(1)\n",
    "total = num1 + num2 + num3\n",
    "print(\"Sum =\", total)\n"
   ]
  },
  {
   "cell_type": "code",
   "execution_count": null,
   "id": "cffeb2d3",
   "metadata": {},
   "outputs": [],
   "source": []
  }
 ],
 "metadata": {
  "kernelspec": {
   "display_name": "Python (pytorch_env)",
   "language": "python",
   "name": "pytorch_env"
  },
  "language_info": {
   "codemirror_mode": {
    "name": "ipython",
    "version": 3
   },
   "file_extension": ".py",
   "mimetype": "text/x-python",
   "name": "python",
   "nbconvert_exporter": "python",
   "pygments_lexer": "ipython3",
   "version": "3.13.2"
  }
 },
 "nbformat": 4,
 "nbformat_minor": 5
}
