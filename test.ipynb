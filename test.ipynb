{
 "cells": [
  {
   "cell_type": "code",
   "execution_count": 1,
   "id": "0bf999bc",
   "metadata": {},
   "outputs": [
    {
     "name": "stdout",
     "output_type": "stream",
     "text": [
      "10\n",
      "\n"
     ]
    }
   ],
   "source": [
    "a=input(\"enter the first number\")\n",
    "b=input(\"enter the second number\")\n",
    "temp=a\n",
    "a=b\n",
    "b=temp\n",
    "print(a)\n",
    "print(b)\n",
    "    \n"
   ]
  },
  {
   "cell_type": "code",
   "execution_count": 11,
   "id": "0291cdb1",
   "metadata": {},
   "outputs": [
    {
     "name": "stdout",
     "output_type": "stream",
     "text": [
      "y\n",
      "r\n",
      "r\n",
      "a\n",
      "h\n"
     ]
    }
   ],
   "source": [
    "c=input(\"Enter the book name\")\n",
    "for i in range(len(c)-1,-1,-1):\n",
    "    print(c[i])\n"
   ]
  },
  {
   "cell_type": "code",
   "execution_count": 32,
   "id": "2ca1ccfe",
   "metadata": {},
   "outputs": [
    {
     "name": "stdout",
     "output_type": "stream",
     "text": [
      "3\n",
      "armstrong\n"
     ]
    }
   ],
   "source": [
    "\n",
    "def armstrong():\n",
    "    n=int(input(\"enter the number\"))\n",
    "    a=n\n",
    "    b=n\n",
    "    s=0\n",
    "    count=0\n",
    "    while n>0:\n",
    "        count+=1\n",
    "        n=n//10\n",
    "    print(count)\n",
    "    while b>0:\n",
    "        d=b%10\n",
    "        s=s+d**count\n",
    "        b=b//10\n",
    "    if s==a:\n",
    "       print(\"armstrong\")\n",
    "    else:\n",
    "       print(\"not an armstrong\")\n",
    "armstrong()"
   ]
  },
  {
   "cell_type": "code",
   "execution_count": null,
   "id": "8b90c78c",
   "metadata": {},
   "outputs": [],
   "source": []
  },
  {
   "cell_type": "code",
   "execution_count": null,
   "id": "b27fcd93",
   "metadata": {},
   "outputs": [],
   "source": []
  },
  {
   "cell_type": "code",
   "execution_count": 28,
   "id": "1d6384c9",
   "metadata": {},
   "outputs": [
    {
     "name": "stdout",
     "output_type": "stream",
     "text": [
      "no of vowels 2\n",
      "no.of consosnants 3\n"
     ]
    }
   ],
   "source": [
    "#A language learning app wants to check how many vowels and consonants a user has typed in a practice sentence. Write a program to count vowels and consonants in a given sentence.\n",
    "string=input(\"Enter the string\")\n",
    "vowels=['a','e','i','o','u','A','E','I','O','U']\n",
    "vowels_count=0\n",
    "consonants_count=0\n",
    "for i in string:\n",
    "    if i in vowels:\n",
    "        vowels_count+=1\n",
    "    else:\n",
    "        consonants_count+=1\n",
    "print(\"no of vowels\",vowels_count)\n",
    "print(\"no.of consosnants\",consonants_count)\n",
    "    "
   ]
  },
  {
   "cell_type": "code",
   "execution_count": 31,
   "id": "49705e01",
   "metadata": {},
   "outputs": [
    {
     "name": "stdout",
     "output_type": "stream",
     "text": [
      "0\n",
      "5\n",
      "10\n",
      "15\n",
      "20\n",
      "25\n",
      "30\n",
      "35\n",
      "40\n",
      "45\n"
     ]
    }
   ],
   "source": [
    "def table():\n",
    " n=int(input(\"Enter the number\"))\n",
    " for i in range(10):\n",
    "    a=n*i\n",
    "    print(a)\n",
    "table()"
   ]
  }
 ],
 "metadata": {
  "kernelspec": {
   "display_name": "venv",
   "language": "python",
   "name": "python3"
  },
  "language_info": {
   "codemirror_mode": {
    "name": "ipython",
    "version": 3
   },
   "file_extension": ".py",
   "mimetype": "text/x-python",
   "name": "python",
   "nbconvert_exporter": "python",
   "pygments_lexer": "ipython3",
   "version": "3.11.0"
  }
 },
 "nbformat": 4,
 "nbformat_minor": 5
}
