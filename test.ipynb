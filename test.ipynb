{
 "cells": [
  {
   "cell_type": "code",
   "execution_count": 2,
   "id": "f402310c",
   "metadata": {},
   "outputs": [
    {
     "name": "stdout",
     "output_type": "stream",
     "text": [
      "anagram\n"
     ]
    }
   ],
   "source": [
    "def anagram(str1,str2):\n",
    "    str1=str1.replace(\" \",\"\").lower()\n",
    "    str2=str2.replace(\" \",\"\").lower()\n",
    "    \n",
    "    return sorted(str1)==sorted(str2)\n",
    "str1=input(\"enter the string1\")\n",
    "str2=input(\"enter the string2\")\n",
    "if anagram(str1,str2):\n",
    "    print(\"anagram\")\n",
    "else:\n",
    "    print(\"not an anagram\")\n"
   ]
  },
  {
   "cell_type": "code",
   "execution_count": 5,
   "id": "50316e3b",
   "metadata": {},
   "outputs": [
    {
     "name": "stdout",
     "output_type": "stream",
     "text": [
      "it is a perfect number\n"
     ]
    }
   ],
   "source": [
    "#17.A science experiment needs to verify whether a number is perfect (sum of divisors = number). Write a program to check if a number is a perfect number.\n",
    "def perfect_num(num):\n",
    "    if num<=1:\n",
    "        return False\n",
    "    divisor_count=0\n",
    "    for i in range(1,num):\n",
    "        if num%i==0:\n",
    "            divisor_count+=i\n",
    "    return divisor_count==num\n",
    "num=int(input(\"enter the number\"))\n",
    "if perfect_num(num):\n",
    "    print(\"it is a perfect number\")\n",
    "else:\n",
    "    print(\"it is not a perfect number\")\n",
    "\n",
    "\n"
   ]
  },
  {
   "cell_type": "code",
   "execution_count": 6,
   "id": "8f078956",
   "metadata": {},
   "outputs": [
    {
     "name": "stdout",
     "output_type": "stream",
     "text": [
      "C\n",
      "67.8\n"
     ]
    }
   ],
   "source": [
    "#18.A school report system calculates percentage and assigns grades:\n",
    "#≥90 → A\n",
    "#75 → B\n",
    "#≥50 → C\n",
    "#<50 → Fail\n",
    "#Write a program that takes 5 subject marks, calculates percentage, and prints the grade.\n",
    "def grade(marks):\n",
    "    total=sum(marks)\n",
    "    percentage=total/5\n",
    "    if percentage>=90:\n",
    "        print(\"A\")\n",
    "    elif percentage>=75:\n",
    "        print(\"B\")\n",
    "    elif percentage>=50:\n",
    "        print(\"C\")\n",
    "    else:\n",
    "        print(\"Fail\")\n",
    "    return percentage\n",
    "marks=[]\n",
    "for i in range(1,6):\n",
    "    m=int(input(\"Enter the marks\"))\n",
    "    marks.append(m)\n",
    "percentage=grade(marks)\n",
    "print(percentage)\n",
    "\n"
   ]
  },
  {
   "cell_type": "code",
   "execution_count": 10,
   "id": "ceec7b67",
   "metadata": {},
   "outputs": [
    {
     "name": "stdout",
     "output_type": "stream",
     "text": [
      "2\n",
      "3\n",
      "5\n",
      "7\n",
      "11\n",
      "13\n",
      "17\n",
      "19\n",
      "23\n",
      "29\n",
      "31\n",
      "37\n",
      "41\n",
      "43\n",
      "47\n",
      "53\n",
      "59\n",
      "61\n",
      "67\n",
      "71\n",
      "73\n",
      "79\n",
      "83\n",
      "89\n",
      "97\n"
     ]
    }
   ],
   "source": [
    "#19.A mathematics quiz app generates all prime numbers between 1 and 100. Write a program to print all prime numbers in this range.\n",
    "def is_prime(num):\n",
    "    if num<2:\n",
    "        return False\n",
    "    \n",
    "    for i in range(2,int(num**0.5)+1):\n",
    "        if num%i==0:\n",
    "            return False\n",
    "    return True\n",
    "for num in range(1,101):\n",
    "    if is_prime(num):\n",
    "      print(num)\n",
    "    "
   ]
  },
  {
   "cell_type": "code",
   "execution_count": 13,
   "id": "48492ac2",
   "metadata": {},
   "outputs": [
    {
     "name": "stdout",
     "output_type": "stream",
     "text": [
      "3\n"
     ]
    }
   ],
   "source": [
    "#20.An online editor counts words in an article but doesn’t allow using split(). Write a program to count the number of words in a sentence.\n",
    "def word_count(sentence):\n",
    "    in_word=False\n",
    "    count=0\n",
    "    for char in sentence:\n",
    "        if char!=\" \" and not in_word:\n",
    "            count+=1\n",
    "            in_word=True\n",
    "        elif char==\" \":\n",
    "            in_word=False\n",
    "    return count\n",
    "sentence=input(\"Enter the sentence\")\n",
    "result=word_count(sentence)\n",
    "print(result)\n"
   ]
  },
  {
   "cell_type": "code",
   "execution_count": 17,
   "id": "e14613ae",
   "metadata": {},
   "outputs": [
    {
     "name": "stdout",
     "output_type": "stream",
     "text": [
      "400\n"
     ]
    }
   ],
   "source": [
    "#21. Movie Ticket DiscountA cinema gives a 20% discount if the customer is a student and 10% discount if the customer is a senior citizen (age ≥ 60).Write a program that takes ticket price, age, and student status (yes/no) as input and prints the final ticket price.\n",
    "def movie_ticket(price,age,is_student):\n",
    "    discount=0\n",
    "    if is_student==\"yes\":\n",
    "        discount=0.20\n",
    "    elif age>=60:\n",
    "        discount=0.10\n",
    "    final_price=price-(price*discount)\n",
    "    return final_price\n",
    "price=int(input(\"enter the price\"))\n",
    "age=int(input(\"enter the age\"))\n",
    "is_student=input(\"are you a student?(yes/no)\")\n",
    "c_t=movie_ticket(price,age,is_student)\n",
    "print(c_t)    \n"
   ]
  },
  {
   "cell_type": "code",
   "execution_count": 18,
   "id": "c7b3839c",
   "metadata": {},
   "outputs": [
    {
     "name": "stdout",
     "output_type": "stream",
     "text": [
      "450\n"
     ]
    }
   ],
   "source": [
    "#22. Shopping Cart Free DeliveryAn e-commerce website gives free delivery if the total cart value is more than ₹500. Otherwise, a delivery charge of ₹50 is applied.\n",
    "#Write a program that takes the cart total as input and prints the final amount payable.\n",
    "def total_cart(cart_value):\n",
    "    if cart_value>500:\n",
    "        return cart_value\n",
    "    else:\n",
    "        return cart_value+50\n",
    "cart_value=int(input(\"enter the amount\"))\n",
    "final_amount=total_cart(cart_value)\n",
    "print(final_amount)"
   ]
  },
  {
   "cell_type": "code",
   "execution_count": 21,
   "id": "6400f1d1",
   "metadata": {},
   "outputs": [
    {
     "name": "stdout",
     "output_type": "stream",
     "text": [
      "C\n",
      "None\n"
     ]
    }
   ],
   "source": [
    "#23. Marks Grading System\n",
    "#A college follows this grading system:\n",
    "#90–100: A\n",
    "#75–89: B\n",
    "#50–74: C\n",
    "#Below 50: Fail\n",
    "#Write a program that takes marks as input and prints the grade.\n",
    "def grade(marks):\n",
    "    if marks<=100 and marks>=90:\n",
    "        print(\"A\")\n",
    "    elif marks<=89 and marks>=75:\n",
    "        print(\"B\")\n",
    "    elif marks<=74 and marks>=50:\n",
    "        print(\"C\")\n",
    "    else:\n",
    "        print(\"Fail\")\n",
    "marks=int(input(\"enter the marks\"))\n",
    "result=grade(marks)\n",
    "print(result)\n"
   ]
  },
  {
   "cell_type": "code",
   "execution_count": 23,
   "id": "25480695",
   "metadata": {},
   "outputs": [
    {
     "name": "stdout",
     "output_type": "stream",
     "text": [
      "70.0 10\n"
     ]
    }
   ],
   "source": [
    "def tip_calculator(bill):\n",
    "    if bill<500:\n",
    "        tip_percent=5\n",
    "    elif bill<1000 and bill>500:\n",
    "        tip_percent=10\n",
    "    else:\n",
    "        tip_percent=15\n",
    "    tip=(bill*tip_percent)/100\n",
    "    return tip,tip_percent\n",
    "bill=int(input(\"enter the bill\"))\n",
    "tip,percent=tip_calculator(bill)\n",
    "print(tip,percent)"
   ]
  }
 ],
 "metadata": {
  "kernelspec": {
   "display_name": "Python (pytorch_env)",
   "language": "python",
   "name": "pytorch_env"
  },
  "language_info": {
   "codemirror_mode": {
    "name": "ipython",
    "version": 3
   },
   "file_extension": ".py",
   "mimetype": "text/x-python",
   "name": "python",
   "nbconvert_exporter": "python",
   "pygments_lexer": "ipython3",
   "version": "3.13.2"
  }
 },
 "nbformat": 4,
 "nbformat_minor": 5
}
