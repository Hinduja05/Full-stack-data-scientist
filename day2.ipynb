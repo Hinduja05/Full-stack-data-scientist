{
 "cells": [
  {
   "cell_type": "code",
   "execution_count": 8,
   "id": "4183b714",
   "metadata": {},
   "outputs": [
    {
     "name": "stdout",
     "output_type": "stream",
     "text": [
      "total no.of words 5\n"
     ]
    }
   ],
   "source": [
    "#1. Problem: Given a text file, count the total number of words.\n",
    "file_obj=open(\"text.txt\",\"r\")\n",
    "read_content=file_obj.read()\n",
    "words=read_content.split()\n",
    "word_count=0\n",
    "for word in words:\n",
    "    word_count+=1\n",
    "print(\"total no.of words\", word_count)\n"
   ]
  },
  {
   "cell_type": "code",
   "execution_count": 12,
   "id": "b04b95eb",
   "metadata": {},
   "outputs": [
    {
     "name": "stdout",
     "output_type": "stream",
     "text": [
      "length is strong\n",
      "password is strong\n"
     ]
    }
   ],
   "source": [
    "#2. Problem: Write a program to check if a password is strong (at least 8 characters, contains uppercase, lowercase, digit, and special char).\n",
    "import string\n",
    "def check_password(pwd):\n",
    "    \n",
    "    if len(pwd)>8:\n",
    "      print(\"length is strong\")\n",
    "      for ch in pwd:\n",
    "        if ch.isupper():\n",
    "            break\n",
    "      for ch in pwd:\n",
    "        if ch.islower():\n",
    "            break\n",
    "      for ch in pwd:\n",
    "        if ch.isdigit():\n",
    "            break\n",
    "      for ch in pwd:\n",
    "        if not ch.isalnum():\n",
    "            break\n",
    "      print(\"password is strong\")\n",
    "    else:\n",
    "       print(\"password is weak\")\n",
    "pwd=input(\"Enter the password\")\n",
    "check_password(pwd)\n",
    "\n"
   ]
  },
  {
   "cell_type": "code",
   "execution_count": 13,
   "id": "2cf45d7b",
   "metadata": {},
   "outputs": [
    {
     "name": "stdout",
     "output_type": "stream",
     "text": [
      "division 4/2=2.0\n"
     ]
    }
   ],
   "source": [
    "#3. Problem: Implement a calculator with +, -, *, / operations.\n",
    "\n",
    "def calculator(a,b,op):\n",
    "    match op:\n",
    "        case \"+\":\n",
    "         print(f\"addition {a}+{b}={a+b}\")\n",
    "        case \"-\":\n",
    "          print(f\"subtraction {a}-{b}={a-b}\")\n",
    "        case \"*\":\n",
    "          print(f\"multiplication {a}*{b}={a*b}\")\n",
    "        case \"/\":\n",
    "          if b!=0:\n",
    "            print(f\"division {a}/{b}={a/b}\")\n",
    "          else:\n",
    "            print(\"zero division\")\n",
    "a=int(input(\"enter the operand a\"))\n",
    "b=int(input(\"enter the operand b\"))\n",
    "op=input(\"enter the operation(+,-,*,/):\")\n",
    "calculator(a,b,op)\n",
    "\n",
    "\n",
    "        \n",
    "         \n",
    "    \n",
    "         \n",
    "        "
   ]
  },
  {
   "cell_type": "markdown",
   "id": "b9ccc9b7",
   "metadata": {},
   "source": []
  },
  {
   "cell_type": "code",
   "execution_count": 18,
   "id": "8784a2cc",
   "metadata": {},
   "outputs": [
    {
     "name": "stdout",
     "output_type": "stream",
     "text": [
      "['hinduja', 'hinduja', 'bob', 'bob']\n"
     ]
    }
   ],
   "source": [
    "#4. Problem: Given a list of student names, find duplicates.\n",
    "from collections import Counter\n",
    "student_names = input(\"Enter the names: \").split()\n",
    "dup_name=[]\n",
    "count=Counter(student_names)\n",
    "for name in student_names:\n",
    "    if count[name]>1:\n",
    "        dup_name.append(name)\n",
    "print(dup_name)\n",
    "    \n",
    "    "
   ]
  },
  {
   "cell_type": "code",
   "execution_count": 22,
   "id": "14ca66e7",
   "metadata": {
    "vscode": {
     "languageId": "ruby"
    }
   },
   "outputs": [
    {
     "name": "stdout",
     "output_type": "stream",
     "text": [
      "29.200000000000003\n"
     ]
    }
   ],
   "source": [
    "\n",
    "#5. Problem: Convert between Celsius and Fahrenheit.\n",
    "def converter(temp,choice):\n",
    "    celsius=(9/5*temp)-32\n",
    "    farenheit=(5/9*temp)+32\n",
    "    if choice==\"celsius\":\n",
    "        print(celsius)\n",
    "    elif choice==\"farenheit\":\n",
    "        print(farenheit)\n",
    "    else:\n",
    "        print(\"invalid\")\n",
    "\n",
    "temp=int(input(\"enter the temperature\"))\n",
    "choice=input(\"enter choice(celsius/farenheit)\")\n",
    "converter(temp,choice)\n",
    "    "
   ]
  },
  {
   "cell_type": "code",
   "execution_count": 23,
   "id": "c69cb8fa",
   "metadata": {
    "vscode": {
     "languageId": "ruby"
    }
   },
   "outputs": [
    {
     "name": "stdout",
     "output_type": "stream",
     "text": [
      "largest  number in list is 99\n"
     ]
    }
   ],
   "source": [
    "#6. Problem: Find the largest number from a list of integers.\n",
    "def largest_num():\n",
    "    nums=list(map(int,input(\"enter the number\").split()))\n",
    "    print(\"largest  number in list is\",max(nums))\n",
    "largest_num()\n"
   ]
  },
  {
   "cell_type": "code",
   "execution_count": 24,
   "id": "3015918a",
   "metadata": {
    "vscode": {
     "languageId": "ruby"
    }
   },
   "outputs": [
    {
     "name": "stdout",
     "output_type": "stream",
     "text": [
      "simple interest 200.0\n"
     ]
    }
   ],
   "source": [
    "#7. Problem: Calculate Simple Interest.\n",
    "def simple_interest():\n",
    "    p=int(input(\"enter the principle\"))\n",
    "    t=int(input(\"enter the time\"))\n",
    "    r=int(input(\"enter the rate\"))\n",
    "    si=p*t*r/100\n",
    "    print(\"simple interest\",si)\n",
    "simple_interest()"
   ]
  },
  {
   "cell_type": "code",
   "execution_count": 29,
   "id": "d3d5bbc3",
   "metadata": {
    "vscode": {
     "languageId": "ruby"
    }
   },
   "outputs": [
    {
     "name": "stdout",
     "output_type": "stream",
     "text": [
      "not defaulters\n"
     ]
    }
   ],
   "source": [
    "#8. Problem: Given a dictionary of student names and attendance %, find defaulters (<75%).\n",
    "attendance = {}\n",
    "n = int(input(\"Enter number of students: \"))\n",
    "\n",
    "for i in range(n):\n",
    "    name = input(f\"Enter name of student {i+1}: \")\n",
    "    percent = int(input(f\"Enter attendance % of {name}: \"))\n",
    "    attendance[name] = percent\n",
    "if percent<75:\n",
    "    defaulters=attendance[name]\n",
    "    for name in defaulters:\n",
    "        print(\"defaulters\",name)\n",
    "else:\n",
    "    print(\"not defaulters\")"
   ]
  },
  {
   "cell_type": "code",
   "execution_count": 30,
   "id": "d4e7e349",
   "metadata": {
    "vscode": {
     "languageId": "ruby"
    }
   },
   "outputs": [
    {
     "name": "stdout",
     "output_type": "stream",
     "text": [
      "10\n"
     ]
    }
   ],
   "source": [
    "#9. Problem: Input: 1234 → Output: 10\n",
    "n=int(input(\"enter the number\"))\n",
    "digit_s=0\n",
    "for d in str(n):\n",
    "    digit_s+=int(d)\n",
    "print(digit_s)"
   ]
  },
  {
   "cell_type": "code",
   "execution_count": 31,
   "id": "ae87f4c8",
   "metadata": {
    "vscode": {
     "languageId": "ruby"
    }
   },
   "outputs": [
    {
     "data": {
      "text/plain": [
       "False"
      ]
     },
     "execution_count": 31,
     "metadata": {},
     "output_type": "execute_result"
    }
   ],
   "source": [
    "#10. Problem: Write a function to check if a number is prime.\n",
    "def is_prime(num):\n",
    "    if num<2:\n",
    "        return False\n",
    "    \n",
    "    for i in range(2,int(num**0.5)+1):\n",
    "        if num%i==0:\n",
    "            return False\n",
    "    return True\n",
    "num=int(input(\"enter the num\"))\n",
    "is_prime(num)"
   ]
  },
  {
   "cell_type": "code",
   "execution_count": 32,
   "id": "0aae6be5",
   "metadata": {
    "vscode": {
     "languageId": "ruby"
    }
   },
   "outputs": [
    {
     "name": "stdout",
     "output_type": "stream",
     "text": [
      "smallest number 12\n",
      "largest number 88\n"
     ]
    }
   ],
   "source": [
    "#11. Problem: Find smallest and largest numbers from a list.\n",
    "num=list(map(int,input(\"enter the list\").split()))\n",
    "print(\"smallest number\",min(num))\n",
    "print(\"largest number\",max(num))\n"
   ]
  },
  {
   "cell_type": "code",
   "execution_count": 36,
   "id": "0bab3e93",
   "metadata": {
    "vscode": {
     "languageId": "ruby"
    }
   },
   "outputs": [
    {
     "name": "stdout",
     "output_type": "stream",
     "text": [
      "total bill 200\n"
     ]
    }
   ],
   "source": [
    "#12. Problem: Given items with prices in a dictionary, calculate total bill.\n",
    "\n",
    "items={}\n",
    "n=int(input())\n",
    "for i in range(n):\n",
    "    item=input(\"enter the item\")\n",
    "    price=int(input(\"enter the price\"))\n",
    "    items[item]=price\n",
    "total_price=sum(items.values())\n",
    "if not items: \n",
    "    print(\"cart is empty\")\n",
    "else:\n",
    "    print(\"total bill\",total_price)\n"
   ]
  },
  {
   "cell_type": "code",
   "execution_count": 39,
   "id": "074920cb",
   "metadata": {
    "vscode": {
     "languageId": "ruby"
    }
   },
   "outputs": [
    {
     "name": "stdout",
     "output_type": "stream",
     "text": [
      "7 is largest\n"
     ]
    }
   ],
   "source": [
    "#13. Problem: Input 3 numbers, print the largest.\n",
    "a,b,c=map(int,input(\"enter the numbers\").split())\n",
    "\n",
    "if a>b and a>c:\n",
    "    print(f\"{a} is largest\")\n",
    "elif b>a and b>c:\n",
    "    print(f\"{b} is largest\")\n",
    "else:\n",
    "    print(f\"{c} is largest\")\n",
    "\n"
   ]
  },
  {
   "cell_type": "code",
   "execution_count": null,
   "id": "d14d387d",
   "metadata": {
    "vscode": {
     "languageId": "ruby"
    }
   },
   "outputs": [],
   "source": []
  }
 ],
 "metadata": {
  "kernelspec": {
   "display_name": "Python (pytorch_env)",
   "language": "python",
   "name": "pytorch_env"
  },
  "language_info": {
   "codemirror_mode": {
    "name": "ipython",
    "version": 3
   },
   "file_extension": ".py",
   "mimetype": "text/x-python",
   "name": "python",
   "nbconvert_exporter": "python",
   "pygments_lexer": "ipython3",
   "version": "3.13.2"
  }
 },
 "nbformat": 4,
 "nbformat_minor": 5
}
