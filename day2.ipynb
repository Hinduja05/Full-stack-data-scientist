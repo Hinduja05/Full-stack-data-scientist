{
 "cells": [
  {
   "cell_type": "code",
   "execution_count": 1,
   "id": "b4ce8b0d",
   "metadata": {},
   "outputs": [
    {
     "name": "stdout",
     "output_type": "stream",
     "text": [
      "toatal bill is310\n"
     ]
    }
   ],
   "source": [
    "#1 Scenario: A grocery shopkeeper wants to calculate the bill of 3 items. Prices and quantities should be stored in variables, and the program should display the total cost.\n",
    " \n",
    "price1,qty1=50,2\n",
    "price2,qty2=30,5\n",
    "price3,qty3=20,3\n",
    "cost1=price1*qty1\n",
    "cost2=price2*qty2\n",
    "cost3=price3*qty3\n",
    "total_bill=cost1+cost2+cost3\n",
    "print(f\"toatal bill is{total_bill}\")\n",
    "\n",
    " \n",
    " "
   ]
  },
  {
   "cell_type": "code",
   "execution_count": 2,
   "id": "75a844b7",
   "metadata": {},
   "outputs": [
    {
     "name": "stdout",
     "output_type": "stream",
     "text": [
      "addition is 9\n",
      "subtraction is1\n",
      "multiplication 20\n",
      "division 1.25\n"
     ]
    }
   ],
   "source": [
    "#2 Build a calculator that takes two numbers and performs addition, subtraction, multiplication, division, and modulus.\n",
    "num1=int(input(\"Enter the first number\"))\n",
    "num2=int(input(\"Enter the second number\"))\n",
    "def add(n1,n2):\n",
    "    sum=n1+n2\n",
    "    print(f\"addition is {sum}\")\n",
    "def subtraction(n1,n2):\n",
    "    sub=n1-n2\n",
    "    print(f\"subtraction is{sub}\")\n",
    "def  multiplication(n1,n2):\n",
    "    mul=n1*n2\n",
    "    print(f\"multiplication {mul}\")\n",
    "def division(n1,n2):\n",
    "    div=n1/n2\n",
    "    print(f\"division {div}\")\n",
    "add(num1,num2)\n",
    "subtraction(num1,num2)\n",
    "multiplication(num1,num2)\n",
    "division(num1,num2)"
   ]
  },
  {
   "cell_type": "code",
   "execution_count": 7,
   "id": "96395272",
   "metadata": {},
   "outputs": [
    {
     "name": "stdout",
     "output_type": "stream",
     "text": [
      "Grade:A\n"
     ]
    }
   ],
   "source": [
    "# 3 A teacher wants a grading system where marks are input, and the grade is displayed.\n",
    "marks=int(input(\"Enter the marks\"))\n",
    "if marks>=90:\n",
    "    print(\"Grade:A+(Excellent)\")\n",
    "elif marks>=80 and marks<=89:\n",
    "    print(\"Grade:A\")\n",
    "elif marks>=70 and marks<=79:\n",
    "    print(\"Grade:B\")\n",
    "elif marks>=60 and marks<=69:\n",
    "    print(\"Grade:C\")\n",
    "elif marks<60:\n",
    "    print(\"Grade:Fail\")\n",
    "\n",
    "\n",
    "\n",
    " "
   ]
  },
  {
   "cell_type": "code",
   "execution_count": 12,
   "id": "401acb62",
   "metadata": {},
   "outputs": [
    {
     "name": "stdout",
     "output_type": "stream",
     "text": [
      "highest marks :90\n",
      "lowest marks 45\n",
      "average marks 71.4\n"
     ]
    }
   ],
   "source": [
    "# 4 Student Marks List\n",
    "#Scenario: Store marks of 5 students in a list. Display the highest, lowest, and average marks.\n",
    "marks_list=[45, 78, 88, 56, 90]\n",
    "print(f\"highest marks :{max(marks_list)}\")\n",
    "print(f\"lowest marks {min(marks_list)}\")\n",
    "sum=0\n",
    "for mark in marks_list:\n",
    "    sum=sum+mark\n",
    "avg=sum/len(marks_list)\n",
    "print(f\"average marks {avg}\")\n",
    "\n",
    "\n",
    " \n",
    "\n",
    " \n",
    "\n",
    " "
   ]
  },
  {
   "cell_type": "code",
   "execution_count": 14,
   "id": "4d393282",
   "metadata": {},
   "outputs": [
    {
     "name": "stdout",
     "output_type": "stream",
     "text": [
      "phone number of Ravi=9123456780\n"
     ]
    }
   ],
   "source": [
    "#5 Create a phonebook using a dictionary where names are keys and numbers are values. Allow searching for a number by name.\n",
    "def phonebook():\n",
    "    dict={\"Suhel\": 9876543210, \"Ravi\": 9123456780, \"Anita\": 9988776655}\n",
    "    search=input(\"enter name\")\n",
    "    if search in dict:\n",
    "        print(f\"phone number of {search}={dict[search]}\")\n",
    "    else:\n",
    "        print(\"phone number not found\")\n",
    "\n",
    "phonebook()"
   ]
  },
  {
   "cell_type": "code",
   "execution_count": 17,
   "id": "68eff0aa",
   "metadata": {},
   "outputs": [
    {
     "name": "stdout",
     "output_type": "stream",
     "text": [
      "no of words  2\n",
      "no.of characters 11\n",
      "no.of vowels 3\n"
     ]
    }
   ],
   "source": [
    "#6 Write a program to count the number of words, characters, and vowels in a sentence.\n",
    "def count_sentence(): \n",
    " sentence=input(\"Enter the sentence\")\n",
    " word=sentence.split()\n",
    " words_count=len(word)\n",
    " char_count=len(sentence)\n",
    " vowels=\"aeiouAEIOU\"\n",
    " vowels_count=0\n",
    " for i in sentence:\n",
    "     if i in vowels:\n",
    "        vowels_count+=1\n",
    " print(\"no of words \",words_count)\n",
    " print(\"no.of characters\",char_count)\n",
    " print(\"no.of vowels\",vowels_count)\n",
    "count_sentence()"
   ]
  },
  {
   "cell_type": "code",
   "execution_count": null,
   "id": "b8d8974e",
   "metadata": {},
   "outputs": [],
   "source": [
    "#7 A bank provides simple interest and compound interest. A user inputs principal, rate, time, and type of interest. Program should calculate accordingly.\n",
    " \n",
    "p,t,r=map(float,input(\"Enter the values\").split())\n",
    "interest_type=input().strip().lower()\n",
    "if interest_type==\"simple\":\n",
    " simple_interest=p*t*r/100\n",
    " print(\"simple interest\",simple_interest)\n",
    "else:\n",
    " compound_interest=p*1+r**t\n",
    " print(\"coumpound interest\",compound_interest)\n",
    "\n"
   ]
  }
 ],
 "metadata": {
  "kernelspec": {
   "display_name": "venv",
   "language": "python",
   "name": "python3"
  },
  "language_info": {
   "codemirror_mode": {
    "name": "ipython",
    "version": 3
   },
   "file_extension": ".py",
   "mimetype": "text/x-python",
   "name": "python",
   "nbconvert_exporter": "python",
   "pygments_lexer": "ipython3",
   "version": "3.11.0"
  }
 },
 "nbformat": 4,
 "nbformat_minor": 5
}
